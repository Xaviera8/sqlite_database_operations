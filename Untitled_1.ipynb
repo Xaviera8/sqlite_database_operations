{
  "cells": [
    {
      "cell_type": "markdown",
      "metadata": {
        "id": "9DNRXPcNbFyO"
      },
      "source": [
        "# **Week 3 Homework Assignment: Introduction to Databases with SQLite**\n",
        "\n",
        "# **Objective**:\n",
        "Introduction to the world of databases, starting with SQLite. Integrate data processing with Python, utilize Pandas for exploratory data analysis, and conduct database operations using SQLite.\n",
        "\n",
        "# **Instructions**:\n",
        "\n"
      ]
    },
    {
      "cell_type": "markdown",
      "metadata": {
        "id": "N6yqk33fbFyQ"
      },
      "source": [
        "## **1. Data Exploration and Analysis**:\n",
        "1.1 Import pricing transparency datasets from at least two different hospital systems into a Pandas DataFrame. You can use one of the examples provided in the WK3/data folder, or try finding a hospital on your own. The google search approach I used to find these ones was: `{hospital name} price transparency machine readible` - replacing hospital name with the name of the hospital you want to find data for. There will typically be a page that contains download links for a .CSV, .JSON, or .XLS(X) file.  \n",
        "  - Conduct a basic exploratory analysis using Python, focusing on aspects such as data distribution, missing values, and basic statistics.\n",
        "  - Document any captivating insights or observations derived from your analysis.\n",
        "  - My expection is to have at least basic descriptive statistics for numerical columns, and frequency counts for categorical columns\n",
        "\n"
      ]
    },
    {
      "cell_type": "markdown",
      "metadata": {
        "id": "vA7Nc7clbFyR"
      },
      "source": [
        "### Import packages and files"
      ]
    },
    {
      "cell_type": "code",
      "execution_count": 2,
      "metadata": {
        "colab": {
          "base_uri": "https://localhost:8080/",
          "height": 374
        },
        "id": "IOtqHKa4bFyR",
        "outputId": "ab89cbb1-e452-43c9-f50a-d9a152da1163"
      },
      "outputs": [],
      "source": [
        "import pandas as pd\n",
        "import numpy as np\n",
        "\n",
        "sbu = pd.read_csv(r\"C:\\Users\\Xavier\\Downloads\\stonybrook.csv\")\n",
        "stjoe = pd.read_excel(r'c:\\Users\\Xavier\\Downloads\\1013998426_wsnchs-north-inc.-dba-st.-joseph-hospital_standardcharges.xlsx')"
      ]
    },
    {
      "cell_type": "markdown",
      "metadata": {
        "id": "aha4cGOvbFyS"
      },
      "source": [
        "### Analyze the first Hospital"
      ]
    },
    {
      "cell_type": "markdown",
      "metadata": {
        "id": "Qqe3aWoKbFyS"
      },
      "source": [
        "#### Cleaning Data\n"
      ]
    },
    {
      "cell_type": "code",
      "execution_count": 3,
      "metadata": {
        "colab": {
          "base_uri": "https://localhost:8080/",
          "height": 194
        },
        "id": "HU6FFBthbFyS",
        "outputId": "6afc3354-7b2d-415e-bc44-9e04b4b08953"
      },
      "outputs": [
        {
          "data": {
            "text/plain": [
              "Index(['Code', 'Description', 'Type', 'Package/Line_Level', 'Gross_charge',\n",
              "       'Discounted_cash_price', 'De-identified_min_contracted_rate',\n",
              "       'De-identified_max_contracted_rate', 'Derived_contracted_rate',\n",
              "       '1199-Commercial_other', 'Aetna-Medicare_Advantage_HMO',\n",
              "       'Aetna-Commercial_HMO/POS', 'Aetna-Commercial_PPO/Open_Access',\n",
              "       'Aetna-Commercial_other', 'Empire_Health-Commercial_other',\n",
              "       'Empire_Health-Commercial_PPO/Open_Access',\n",
              "       'BlueCross_BlueShield-Commercial_other',\n",
              "       'Beacon_Health-Commercial_other', 'Carelon_Health-Commercial_other',\n",
              "       'Cigna-Commercial_PPO/Open_Access', 'Cigna-Commercial_other',\n",
              "       'Cigna-Commercial_HMO/POS', 'EH_Facet-Commercial_other',\n",
              "       'EmblemHealth-Commercial_PPO/Open_Access',\n",
              "       'EmblemHealth-Commercial_other', 'EmblemHealth-Commercial_HMO/POS',\n",
              "       'EmblemHealth-Medicaid_HMO', 'EmblemHealth-Medicare_Advantage_HMO',\n",
              "       'Empire_Health-Commercial_HMO/POS',\n",
              "       'Empire_Health-Medicare_Advantage_HMO', 'Empire_Health-Medicaid_HMO',\n",
              "       'Evernorth-Commercial_other', 'Fidelis-Commercial_other',\n",
              "       'Fidelis-Medicare_Advantage_HMO', 'Fidelis-Medicaid_HMO',\n",
              "       'GHI-Commercial_other', 'HealthFirst-Commercial_other',\n",
              "       'HealthFirst-Medicare_Advantage_HMO', 'HealthFirst-Medicaid_HMO',\n",
              "       'HealthPlus_HP-Medicaid_HMO', 'HealthPlus_HP-Commercial_other',\n",
              "       'HealthPlus_HP-Medicare_Advantage_HMO', 'Humana-Commercial_other',\n",
              "       'Humana-Commercial_HMO/POS', 'Humana-Commercial_PPO/Open_Access',\n",
              "       'Meritain_Health-Commercial_other', 'Molina-Commercial_other',\n",
              "       'Optum-Commercial_other', 'Oxford-Commercial_other',\n",
              "       'Oxford-Commercial_HMO/POS', 'Tricare-Commercial_other',\n",
              "       'United_Healthcare-Commercial_other',\n",
              "       'United_Healthcare-Medicare_Advantage_HMO',\n",
              "       'United_Healthcare-Commercial_HMO/POS',\n",
              "       'United_Healthcare-Medicaid_HMO',\n",
              "       'United_Healthcare-Commercial_PPO/Open_Access',\n",
              "       'Veteran_Family-Commercial_other'],\n",
              "      dtype='object')"
            ]
          },
          "execution_count": 3,
          "metadata": {},
          "output_type": "execute_result"
        }
      ],
      "source": [
        "sbu.columns.str.strip()\n",
        "sbu.columns.str.replace(' ','_')"
      ]
    },
    {
      "cell_type": "code",
      "execution_count": 4,
      "metadata": {
        "id": "03Hj944QbFyS"
      },
      "outputs": [
        {
          "data": {
            "text/plain": [
              "(7710, 57)"
            ]
          },
          "execution_count": 4,
          "metadata": {},
          "output_type": "execute_result"
        }
      ],
      "source": [
        "sbu.shape"
      ]
    },
    {
      "cell_type": "code",
      "execution_count": 5,
      "metadata": {
        "id": "0L0b7R8LbFyS"
      },
      "outputs": [
        {
          "data": {
            "text/html": [
              "<div>\n",
              "<style scoped>\n",
              "    .dataframe tbody tr th:only-of-type {\n",
              "        vertical-align: middle;\n",
              "    }\n",
              "\n",
              "    .dataframe tbody tr th {\n",
              "        vertical-align: top;\n",
              "    }\n",
              "\n",
              "    .dataframe thead th {\n",
              "        text-align: right;\n",
              "    }\n",
              "</style>\n",
              "<table border=\"1\" class=\"dataframe\">\n",
              "  <thead>\n",
              "    <tr style=\"text-align: right;\">\n",
              "      <th></th>\n",
              "      <th>Code</th>\n",
              "      <th>Description</th>\n",
              "      <th>Type</th>\n",
              "      <th>Package/Line_Level</th>\n",
              "      <th>Gross charge</th>\n",
              "      <th>Discounted cash price</th>\n",
              "      <th>De-identified min contracted rate</th>\n",
              "      <th>De-identified max contracted rate</th>\n",
              "      <th>Derived contracted rate</th>\n",
              "      <th>1199-Commercial other</th>\n",
              "      <th>...</th>\n",
              "      <th>Optum-Commercial other</th>\n",
              "      <th>Oxford-Commercial other</th>\n",
              "      <th>Oxford-Commercial HMO/POS</th>\n",
              "      <th>Tricare-Commercial other</th>\n",
              "      <th>United Healthcare-Commercial other</th>\n",
              "      <th>United Healthcare-Medicare Advantage HMO</th>\n",
              "      <th>United Healthcare-Commercial HMO/POS</th>\n",
              "      <th>United Healthcare-Medicaid HMO</th>\n",
              "      <th>United Healthcare-Commercial PPO/Open Access</th>\n",
              "      <th>Veteran Family-Commercial other</th>\n",
              "    </tr>\n",
              "  </thead>\n",
              "  <tbody>\n",
              "    <tr>\n",
              "      <th>0</th>\n",
              "      <td>10004</td>\n",
              "      <td>FINE NEEDLE ASPIRATION BIOPSY, EACH ADDITIONAL...</td>\n",
              "      <td>Outpatient</td>\n",
              "      <td>Line</td>\n",
              "      <td>718.67</td>\n",
              "      <td>718.67</td>\n",
              "      <td>2155.50</td>\n",
              "      <td>2155.50</td>\n",
              "      <td>2155.50</td>\n",
              "      <td>NaN</td>\n",
              "      <td>...</td>\n",
              "      <td>NaN</td>\n",
              "      <td>NaN</td>\n",
              "      <td>NaN</td>\n",
              "      <td>NaN</td>\n",
              "      <td>NaN</td>\n",
              "      <td>NaN</td>\n",
              "      <td>NaN</td>\n",
              "      <td>NaN</td>\n",
              "      <td>NaN</td>\n",
              "      <td>NaN</td>\n",
              "    </tr>\n",
              "    <tr>\n",
              "      <th>1</th>\n",
              "      <td>10005</td>\n",
              "      <td>FINE NEEDLE ASPIRATION BIOPSY USING ULTRASOUND...</td>\n",
              "      <td>Outpatient</td>\n",
              "      <td>Line</td>\n",
              "      <td>2061.25</td>\n",
              "      <td>2061.25</td>\n",
              "      <td>87.02</td>\n",
              "      <td>4782.00</td>\n",
              "      <td>2308.44</td>\n",
              "      <td>2411.0</td>\n",
              "      <td>...</td>\n",
              "      <td>NaN</td>\n",
              "      <td>4782.0</td>\n",
              "      <td>NaN</td>\n",
              "      <td>NaN</td>\n",
              "      <td>3845.25</td>\n",
              "      <td>NaN</td>\n",
              "      <td>NaN</td>\n",
              "      <td>658.94</td>\n",
              "      <td>NaN</td>\n",
              "      <td>NaN</td>\n",
              "    </tr>\n",
              "    <tr>\n",
              "      <th>2</th>\n",
              "      <td>10005</td>\n",
              "      <td>FINE NEEDLE ASPIRATION BIOPSY USING ULTRASOUND...</td>\n",
              "      <td>Outpatient</td>\n",
              "      <td>Package</td>\n",
              "      <td>2061.25</td>\n",
              "      <td>2061.25</td>\n",
              "      <td>87.02</td>\n",
              "      <td>4782.00</td>\n",
              "      <td>2308.44</td>\n",
              "      <td>2411.0</td>\n",
              "      <td>...</td>\n",
              "      <td>NaN</td>\n",
              "      <td>4782.0</td>\n",
              "      <td>NaN</td>\n",
              "      <td>NaN</td>\n",
              "      <td>3845.25</td>\n",
              "      <td>NaN</td>\n",
              "      <td>NaN</td>\n",
              "      <td>658.94</td>\n",
              "      <td>NaN</td>\n",
              "      <td>NaN</td>\n",
              "    </tr>\n",
              "    <tr>\n",
              "      <th>3</th>\n",
              "      <td>10006</td>\n",
              "      <td>FINE NEEDLE ASPIRATION BIOPSY USING ULTRASOUND...</td>\n",
              "      <td>Outpatient</td>\n",
              "      <td>Line</td>\n",
              "      <td>728.54</td>\n",
              "      <td>728.54</td>\n",
              "      <td>58.55</td>\n",
              "      <td>1761.25</td>\n",
              "      <td>909.90</td>\n",
              "      <td>NaN</td>\n",
              "      <td>...</td>\n",
              "      <td>NaN</td>\n",
              "      <td>NaN</td>\n",
              "      <td>NaN</td>\n",
              "      <td>NaN</td>\n",
              "      <td>NaN</td>\n",
              "      <td>NaN</td>\n",
              "      <td>NaN</td>\n",
              "      <td>NaN</td>\n",
              "      <td>NaN</td>\n",
              "      <td>NaN</td>\n",
              "    </tr>\n",
              "    <tr>\n",
              "      <th>4</th>\n",
              "      <td>10009</td>\n",
              "      <td>FINE NEEDLE ASPIRATION BIOPSY OF GROWTH USING ...</td>\n",
              "      <td>Outpatient</td>\n",
              "      <td>Line</td>\n",
              "      <td>2823.01</td>\n",
              "      <td>2823.01</td>\n",
              "      <td>446.28</td>\n",
              "      <td>6017.59</td>\n",
              "      <td>4219.31</td>\n",
              "      <td>4592.0</td>\n",
              "      <td>...</td>\n",
              "      <td>NaN</td>\n",
              "      <td>NaN</td>\n",
              "      <td>NaN</td>\n",
              "      <td>NaN</td>\n",
              "      <td>5127.00</td>\n",
              "      <td>NaN</td>\n",
              "      <td>NaN</td>\n",
              "      <td>NaN</td>\n",
              "      <td>NaN</td>\n",
              "      <td>NaN</td>\n",
              "    </tr>\n",
              "  </tbody>\n",
              "</table>\n",
              "<p>5 rows × 57 columns</p>\n",
              "</div>"
            ],
            "text/plain": [
              "    Code                                        Description        Type  \\\n",
              "0  10004  FINE NEEDLE ASPIRATION BIOPSY, EACH ADDITIONAL...  Outpatient   \n",
              "1  10005  FINE NEEDLE ASPIRATION BIOPSY USING ULTRASOUND...  Outpatient   \n",
              "2  10005  FINE NEEDLE ASPIRATION BIOPSY USING ULTRASOUND...  Outpatient   \n",
              "3  10006  FINE NEEDLE ASPIRATION BIOPSY USING ULTRASOUND...  Outpatient   \n",
              "4  10009  FINE NEEDLE ASPIRATION BIOPSY OF GROWTH USING ...  Outpatient   \n",
              "\n",
              "  Package/Line_Level  Gross charge  Discounted cash price  \\\n",
              "0               Line        718.67                 718.67   \n",
              "1               Line       2061.25                2061.25   \n",
              "2            Package       2061.25                2061.25   \n",
              "3               Line        728.54                 728.54   \n",
              "4               Line       2823.01                2823.01   \n",
              "\n",
              "   De-identified min contracted rate  De-identified max contracted rate  \\\n",
              "0                            2155.50                            2155.50   \n",
              "1                              87.02                            4782.00   \n",
              "2                              87.02                            4782.00   \n",
              "3                              58.55                            1761.25   \n",
              "4                             446.28                            6017.59   \n",
              "\n",
              "   Derived contracted rate  1199-Commercial other  ...  \\\n",
              "0                  2155.50                    NaN  ...   \n",
              "1                  2308.44                 2411.0  ...   \n",
              "2                  2308.44                 2411.0  ...   \n",
              "3                   909.90                    NaN  ...   \n",
              "4                  4219.31                 4592.0  ...   \n",
              "\n",
              "   Optum-Commercial other  Oxford-Commercial other  Oxford-Commercial HMO/POS  \\\n",
              "0                     NaN                      NaN                        NaN   \n",
              "1                     NaN                   4782.0                        NaN   \n",
              "2                     NaN                   4782.0                        NaN   \n",
              "3                     NaN                      NaN                        NaN   \n",
              "4                     NaN                      NaN                        NaN   \n",
              "\n",
              "   Tricare-Commercial other  United Healthcare-Commercial other  \\\n",
              "0                       NaN                                 NaN   \n",
              "1                       NaN                             3845.25   \n",
              "2                       NaN                             3845.25   \n",
              "3                       NaN                                 NaN   \n",
              "4                       NaN                             5127.00   \n",
              "\n",
              "   United Healthcare-Medicare Advantage HMO  \\\n",
              "0                                       NaN   \n",
              "1                                       NaN   \n",
              "2                                       NaN   \n",
              "3                                       NaN   \n",
              "4                                       NaN   \n",
              "\n",
              "   United Healthcare-Commercial HMO/POS  United Healthcare-Medicaid HMO  \\\n",
              "0                                   NaN                             NaN   \n",
              "1                                   NaN                          658.94   \n",
              "2                                   NaN                          658.94   \n",
              "3                                   NaN                             NaN   \n",
              "4                                   NaN                             NaN   \n",
              "\n",
              "   United Healthcare-Commercial PPO/Open Access  \\\n",
              "0                                           NaN   \n",
              "1                                           NaN   \n",
              "2                                           NaN   \n",
              "3                                           NaN   \n",
              "4                                           NaN   \n",
              "\n",
              "   Veteran Family-Commercial other  \n",
              "0                              NaN  \n",
              "1                              NaN  \n",
              "2                              NaN  \n",
              "3                              NaN  \n",
              "4                              NaN  \n",
              "\n",
              "[5 rows x 57 columns]"
            ]
          },
          "execution_count": 5,
          "metadata": {},
          "output_type": "execute_result"
        }
      ],
      "source": [
        "sbu.head(5)"
      ]
    },
    {
      "cell_type": "code",
      "execution_count": 6,
      "metadata": {
        "id": "MzUkbA9obFyT"
      },
      "outputs": [
        {
          "data": {
            "text/html": [
              "<div>\n",
              "<style scoped>\n",
              "    .dataframe tbody tr th:only-of-type {\n",
              "        vertical-align: middle;\n",
              "    }\n",
              "\n",
              "    .dataframe tbody tr th {\n",
              "        vertical-align: top;\n",
              "    }\n",
              "\n",
              "    .dataframe thead th {\n",
              "        text-align: right;\n",
              "    }\n",
              "</style>\n",
              "<table border=\"1\" class=\"dataframe\">\n",
              "  <thead>\n",
              "    <tr style=\"text-align: right;\">\n",
              "      <th></th>\n",
              "      <th>Code</th>\n",
              "      <th>Description</th>\n",
              "      <th>Type</th>\n",
              "      <th>Package/Line_Level</th>\n",
              "      <th>Gross charge</th>\n",
              "      <th>Discounted cash price</th>\n",
              "      <th>De-identified min contracted rate</th>\n",
              "      <th>De-identified max contracted rate</th>\n",
              "      <th>Derived contracted rate</th>\n",
              "      <th>1199-Commercial other</th>\n",
              "      <th>...</th>\n",
              "      <th>Optum-Commercial other</th>\n",
              "      <th>Oxford-Commercial other</th>\n",
              "      <th>Oxford-Commercial HMO/POS</th>\n",
              "      <th>Tricare-Commercial other</th>\n",
              "      <th>United Healthcare-Commercial other</th>\n",
              "      <th>United Healthcare-Medicare Advantage HMO</th>\n",
              "      <th>United Healthcare-Commercial HMO/POS</th>\n",
              "      <th>United Healthcare-Medicaid HMO</th>\n",
              "      <th>United Healthcare-Commercial PPO/Open Access</th>\n",
              "      <th>Veteran Family-Commercial other</th>\n",
              "    </tr>\n",
              "  </thead>\n",
              "  <tbody>\n",
              "    <tr>\n",
              "      <th>7705</th>\n",
              "      <td>30981203</td>\n",
              "      <td>R&amp;B SICU 09W1 ICR PT-Z</td>\n",
              "      <td>NaN</td>\n",
              "      <td>NaN</td>\n",
              "      <td>12090.0</td>\n",
              "      <td>12090.0</td>\n",
              "      <td>NaN</td>\n",
              "      <td>NaN</td>\n",
              "      <td>NaN</td>\n",
              "      <td>NaN</td>\n",
              "      <td>...</td>\n",
              "      <td>NaN</td>\n",
              "      <td>NaN</td>\n",
              "      <td>NaN</td>\n",
              "      <td>NaN</td>\n",
              "      <td>NaN</td>\n",
              "      <td>NaN</td>\n",
              "      <td>NaN</td>\n",
              "      <td>NaN</td>\n",
              "      <td>NaN</td>\n",
              "      <td>NaN</td>\n",
              "    </tr>\n",
              "    <tr>\n",
              "      <th>7706</th>\n",
              "      <td>30993018</td>\n",
              "      <td>R&amp;B TICR 09W2 - PT-I</td>\n",
              "      <td>NaN</td>\n",
              "      <td>NaN</td>\n",
              "      <td>13590.0</td>\n",
              "      <td>13590.0</td>\n",
              "      <td>NaN</td>\n",
              "      <td>NaN</td>\n",
              "      <td>NaN</td>\n",
              "      <td>NaN</td>\n",
              "      <td>...</td>\n",
              "      <td>NaN</td>\n",
              "      <td>NaN</td>\n",
              "      <td>NaN</td>\n",
              "      <td>NaN</td>\n",
              "      <td>NaN</td>\n",
              "      <td>NaN</td>\n",
              "      <td>NaN</td>\n",
              "      <td>NaN</td>\n",
              "      <td>NaN</td>\n",
              "      <td>NaN</td>\n",
              "    </tr>\n",
              "    <tr>\n",
              "      <th>7707</th>\n",
              "      <td>33500000</td>\n",
              "      <td>R&amp;B REV PICU 11S2 PT-X</td>\n",
              "      <td>NaN</td>\n",
              "      <td>NaN</td>\n",
              "      <td>8165.0</td>\n",
              "      <td>8165.0</td>\n",
              "      <td>NaN</td>\n",
              "      <td>NaN</td>\n",
              "      <td>NaN</td>\n",
              "      <td>NaN</td>\n",
              "      <td>...</td>\n",
              "      <td>NaN</td>\n",
              "      <td>NaN</td>\n",
              "      <td>NaN</td>\n",
              "      <td>NaN</td>\n",
              "      <td>NaN</td>\n",
              "      <td>NaN</td>\n",
              "      <td>NaN</td>\n",
              "      <td>NaN</td>\n",
              "      <td>NaN</td>\n",
              "      <td>NaN</td>\n",
              "    </tr>\n",
              "    <tr>\n",
              "      <th>7708</th>\n",
              "      <td>30333058</td>\n",
              "      <td>ROPH HOSP.OBSERVATION PT-T</td>\n",
              "      <td>NaN</td>\n",
              "      <td>NaN</td>\n",
              "      <td>8165.0</td>\n",
              "      <td>8165.0</td>\n",
              "      <td>NaN</td>\n",
              "      <td>NaN</td>\n",
              "      <td>NaN</td>\n",
              "      <td>NaN</td>\n",
              "      <td>...</td>\n",
              "      <td>NaN</td>\n",
              "      <td>NaN</td>\n",
              "      <td>NaN</td>\n",
              "      <td>NaN</td>\n",
              "      <td>NaN</td>\n",
              "      <td>NaN</td>\n",
              "      <td>NaN</td>\n",
              "      <td>NaN</td>\n",
              "      <td>NaN</td>\n",
              "      <td>NaN</td>\n",
              "    </tr>\n",
              "    <tr>\n",
              "      <th>7709</th>\n",
              "      <td>30000004</td>\n",
              "      <td>SEMI-PRIVATE</td>\n",
              "      <td>NaN</td>\n",
              "      <td>NaN</td>\n",
              "      <td>8165.0</td>\n",
              "      <td>8165.0</td>\n",
              "      <td>NaN</td>\n",
              "      <td>NaN</td>\n",
              "      <td>NaN</td>\n",
              "      <td>NaN</td>\n",
              "      <td>...</td>\n",
              "      <td>NaN</td>\n",
              "      <td>NaN</td>\n",
              "      <td>NaN</td>\n",
              "      <td>NaN</td>\n",
              "      <td>NaN</td>\n",
              "      <td>NaN</td>\n",
              "      <td>NaN</td>\n",
              "      <td>NaN</td>\n",
              "      <td>NaN</td>\n",
              "      <td>NaN</td>\n",
              "    </tr>\n",
              "  </tbody>\n",
              "</table>\n",
              "<p>5 rows × 57 columns</p>\n",
              "</div>"
            ],
            "text/plain": [
              "          Code                 Description Type Package/Line_Level  \\\n",
              "7705  30981203      R&B SICU 09W1 ICR PT-Z  NaN                NaN   \n",
              "7706  30993018        R&B TICR 09W2 - PT-I  NaN                NaN   \n",
              "7707  33500000      R&B REV PICU 11S2 PT-X  NaN                NaN   \n",
              "7708  30333058  ROPH HOSP.OBSERVATION PT-T  NaN                NaN   \n",
              "7709  30000004                SEMI-PRIVATE  NaN                NaN   \n",
              "\n",
              "      Gross charge  Discounted cash price  De-identified min contracted rate  \\\n",
              "7705       12090.0                12090.0                                NaN   \n",
              "7706       13590.0                13590.0                                NaN   \n",
              "7707        8165.0                 8165.0                                NaN   \n",
              "7708        8165.0                 8165.0                                NaN   \n",
              "7709        8165.0                 8165.0                                NaN   \n",
              "\n",
              "      De-identified max contracted rate  Derived contracted rate  \\\n",
              "7705                                NaN                      NaN   \n",
              "7706                                NaN                      NaN   \n",
              "7707                                NaN                      NaN   \n",
              "7708                                NaN                      NaN   \n",
              "7709                                NaN                      NaN   \n",
              "\n",
              "      1199-Commercial other  ...  Optum-Commercial other  \\\n",
              "7705                    NaN  ...                     NaN   \n",
              "7706                    NaN  ...                     NaN   \n",
              "7707                    NaN  ...                     NaN   \n",
              "7708                    NaN  ...                     NaN   \n",
              "7709                    NaN  ...                     NaN   \n",
              "\n",
              "      Oxford-Commercial other  Oxford-Commercial HMO/POS  \\\n",
              "7705                      NaN                        NaN   \n",
              "7706                      NaN                        NaN   \n",
              "7707                      NaN                        NaN   \n",
              "7708                      NaN                        NaN   \n",
              "7709                      NaN                        NaN   \n",
              "\n",
              "      Tricare-Commercial other  United Healthcare-Commercial other  \\\n",
              "7705                       NaN                                 NaN   \n",
              "7706                       NaN                                 NaN   \n",
              "7707                       NaN                                 NaN   \n",
              "7708                       NaN                                 NaN   \n",
              "7709                       NaN                                 NaN   \n",
              "\n",
              "      United Healthcare-Medicare Advantage HMO  \\\n",
              "7705                                       NaN   \n",
              "7706                                       NaN   \n",
              "7707                                       NaN   \n",
              "7708                                       NaN   \n",
              "7709                                       NaN   \n",
              "\n",
              "      United Healthcare-Commercial HMO/POS  United Healthcare-Medicaid HMO  \\\n",
              "7705                                   NaN                             NaN   \n",
              "7706                                   NaN                             NaN   \n",
              "7707                                   NaN                             NaN   \n",
              "7708                                   NaN                             NaN   \n",
              "7709                                   NaN                             NaN   \n",
              "\n",
              "      United Healthcare-Commercial PPO/Open Access  \\\n",
              "7705                                           NaN   \n",
              "7706                                           NaN   \n",
              "7707                                           NaN   \n",
              "7708                                           NaN   \n",
              "7709                                           NaN   \n",
              "\n",
              "      Veteran Family-Commercial other  \n",
              "7705                              NaN  \n",
              "7706                              NaN  \n",
              "7707                              NaN  \n",
              "7708                              NaN  \n",
              "7709                              NaN  \n",
              "\n",
              "[5 rows x 57 columns]"
            ]
          },
          "execution_count": 6,
          "metadata": {},
          "output_type": "execute_result"
        }
      ],
      "source": [
        "sbu.tail(5)"
      ]
    },
    {
      "cell_type": "markdown",
      "metadata": {
        "id": "huyjFGHCbFyT"
      },
      "source": [
        "#### Descriptive Statistics"
      ]
    },
    {
      "cell_type": "code",
      "execution_count": 7,
      "metadata": {
        "id": "fmJ9rAHlbFyU"
      },
      "outputs": [
        {
          "data": {
            "text/plain": [
              "Code                                               0\n",
              "Description                                        0\n",
              "Type                                             783\n",
              "Package/Line_Level                               783\n",
              "Gross charge                                       0\n",
              "Discounted cash price                              0\n",
              "De-identified min contracted rate               1456\n",
              "De-identified max contracted rate               1456\n",
              "Derived contracted rate                         1456\n",
              "1199-Commercial other                           6696\n",
              "Aetna-Medicare Advantage HMO                    6604\n",
              "Aetna-Commercial HMO/POS                        5883\n",
              "Aetna-Commercial PPO/Open Access                6098\n",
              "Aetna-Commercial other                          7582\n",
              "Empire Health-Commercial other                  4650\n",
              "Empire Health-Commercial PPO/Open Access        5308\n",
              "BlueCross BlueShield-Commercial other           6456\n",
              "Beacon Health-Commercial other                  7707\n",
              "Carelon Health-Commercial other                 7707\n",
              "Cigna-Commercial PPO/Open Access                5744\n",
              "Cigna-Commercial other                          7667\n",
              "Cigna-Commercial HMO/POS                        7704\n",
              "EH Facet-Commercial other                       7710\n",
              "EmblemHealth-Commercial PPO/Open Access         6964\n",
              "EmblemHealth-Commercial other                   5640\n",
              "EmblemHealth-Commercial HMO/POS                 6324\n",
              "EmblemHealth-Medicaid HMO                       7710\n",
              "EmblemHealth-Medicare Advantage HMO             7710\n",
              "Empire Health-Commercial HMO/POS                6031\n",
              "Empire Health-Medicare Advantage HMO            6636\n",
              "Empire Health-Medicaid HMO                      7708\n",
              "Evernorth-Commercial other                      7702\n",
              "Fidelis-Commercial other                        6790\n",
              "Fidelis-Medicare Advantage HMO                  7442\n",
              "Fidelis-Medicaid HMO                            5353\n",
              "GHI-Commercial other                            7710\n",
              "HealthFirst-Commercial other                    5634\n",
              "HealthFirst-Medicare Advantage HMO              7608\n",
              "HealthFirst-Medicaid HMO                        7710\n",
              "HealthPlus HP-Medicaid HMO                      6920\n",
              "HealthPlus HP-Commercial other                  7413\n",
              "HealthPlus HP-Medicare Advantage HMO            7005\n",
              "Humana-Commercial other                         7677\n",
              "Humana-Commercial HMO/POS                       7463\n",
              "Humana-Commercial PPO/Open Access               7236\n",
              "Meritain Health-Commercial other                7260\n",
              "Molina-Commercial other                         6963\n",
              "Optum-Commercial other                          6767\n",
              "Oxford-Commercial other                         5933\n",
              "Oxford-Commercial HMO/POS                       7710\n",
              "Tricare-Commercial other                        7276\n",
              "United Healthcare-Commercial other              5353\n",
              "United Healthcare-Medicare Advantage HMO        7086\n",
              "United Healthcare-Commercial HMO/POS            7577\n",
              "United Healthcare-Medicaid HMO                  5645\n",
              "United Healthcare-Commercial PPO/Open Access    7353\n",
              "Veteran Family-Commercial other                 7664\n",
              "dtype: int64"
            ]
          },
          "execution_count": 7,
          "metadata": {},
          "output_type": "execute_result"
        }
      ],
      "source": [
        "\n",
        "sbu.isnull().sum()"
      ]
    },
    {
      "cell_type": "code",
      "execution_count": 8,
      "metadata": {
        "id": "08laNtwGbFyU"
      },
      "outputs": [
        {
          "data": {
            "text/plain": [
              "Code                                            0\n",
              "Description                                     0\n",
              "Type                                            0\n",
              "Package/Line_Level                              0\n",
              "Gross charge                                    0\n",
              "Discounted cash price                           0\n",
              "De-identified min contracted rate               0\n",
              "De-identified max contracted rate               0\n",
              "Derived contracted rate                         0\n",
              "1199-Commercial other                           0\n",
              "Aetna-Medicare Advantage HMO                    0\n",
              "Aetna-Commercial HMO/POS                        0\n",
              "Aetna-Commercial PPO/Open Access                0\n",
              "Aetna-Commercial other                          0\n",
              "Empire Health-Commercial other                  0\n",
              "Empire Health-Commercial PPO/Open Access        0\n",
              "BlueCross BlueShield-Commercial other           0\n",
              "Beacon Health-Commercial other                  0\n",
              "Carelon Health-Commercial other                 0\n",
              "Cigna-Commercial PPO/Open Access                0\n",
              "Cigna-Commercial other                          0\n",
              "Cigna-Commercial HMO/POS                        0\n",
              "EH Facet-Commercial other                       0\n",
              "EmblemHealth-Commercial PPO/Open Access         0\n",
              "EmblemHealth-Commercial other                   0\n",
              "EmblemHealth-Commercial HMO/POS                 0\n",
              "EmblemHealth-Medicaid HMO                       0\n",
              "EmblemHealth-Medicare Advantage HMO             0\n",
              "Empire Health-Commercial HMO/POS                0\n",
              "Empire Health-Medicare Advantage HMO            0\n",
              "Empire Health-Medicaid HMO                      0\n",
              "Evernorth-Commercial other                      0\n",
              "Fidelis-Commercial other                        0\n",
              "Fidelis-Medicare Advantage HMO                  0\n",
              "Fidelis-Medicaid HMO                            0\n",
              "GHI-Commercial other                            0\n",
              "HealthFirst-Commercial other                    0\n",
              "HealthFirst-Medicare Advantage HMO              0\n",
              "HealthFirst-Medicaid HMO                        0\n",
              "HealthPlus HP-Medicaid HMO                      0\n",
              "HealthPlus HP-Commercial other                  0\n",
              "HealthPlus HP-Medicare Advantage HMO            0\n",
              "Humana-Commercial other                         0\n",
              "Humana-Commercial HMO/POS                       0\n",
              "Humana-Commercial PPO/Open Access               0\n",
              "Meritain Health-Commercial other                0\n",
              "Molina-Commercial other                         0\n",
              "Optum-Commercial other                          0\n",
              "Oxford-Commercial other                         0\n",
              "Oxford-Commercial HMO/POS                       0\n",
              "Tricare-Commercial other                        0\n",
              "United Healthcare-Commercial other              0\n",
              "United Healthcare-Medicare Advantage HMO        0\n",
              "United Healthcare-Commercial HMO/POS            0\n",
              "United Healthcare-Medicaid HMO                  0\n",
              "United Healthcare-Commercial PPO/Open Access    0\n",
              "Veteran Family-Commercial other                 0\n",
              "dtype: int64"
            ]
          },
          "execution_count": 8,
          "metadata": {},
          "output_type": "execute_result"
        }
      ],
      "source": [
        "sbu = sbu.fillna(0)\n",
        "sbu.isnull().sum()"
      ]
    },
    {
      "cell_type": "code",
      "execution_count": 9,
      "metadata": {
        "id": "iqAdpcRAbFyU"
      },
      "outputs": [
        {
          "data": {
            "text/html": [
              "<div>\n",
              "<style scoped>\n",
              "    .dataframe tbody tr th:only-of-type {\n",
              "        vertical-align: middle;\n",
              "    }\n",
              "\n",
              "    .dataframe tbody tr th {\n",
              "        vertical-align: top;\n",
              "    }\n",
              "\n",
              "    .dataframe thead th {\n",
              "        text-align: right;\n",
              "    }\n",
              "</style>\n",
              "<table border=\"1\" class=\"dataframe\">\n",
              "  <thead>\n",
              "    <tr style=\"text-align: right;\">\n",
              "      <th></th>\n",
              "      <th>Gross charge</th>\n",
              "      <th>Discounted cash price</th>\n",
              "      <th>De-identified min contracted rate</th>\n",
              "      <th>De-identified max contracted rate</th>\n",
              "      <th>Derived contracted rate</th>\n",
              "      <th>1199-Commercial other</th>\n",
              "      <th>Aetna-Medicare Advantage HMO</th>\n",
              "      <th>Aetna-Commercial HMO/POS</th>\n",
              "      <th>Aetna-Commercial PPO/Open Access</th>\n",
              "      <th>Aetna-Commercial other</th>\n",
              "      <th>...</th>\n",
              "      <th>Optum-Commercial other</th>\n",
              "      <th>Oxford-Commercial other</th>\n",
              "      <th>Oxford-Commercial HMO/POS</th>\n",
              "      <th>Tricare-Commercial other</th>\n",
              "      <th>United Healthcare-Commercial other</th>\n",
              "      <th>United Healthcare-Medicare Advantage HMO</th>\n",
              "      <th>United Healthcare-Commercial HMO/POS</th>\n",
              "      <th>United Healthcare-Medicaid HMO</th>\n",
              "      <th>United Healthcare-Commercial PPO/Open Access</th>\n",
              "      <th>Veteran Family-Commercial other</th>\n",
              "    </tr>\n",
              "  </thead>\n",
              "  <tbody>\n",
              "    <tr>\n",
              "      <th>count</th>\n",
              "      <td>7.710000e+03</td>\n",
              "      <td>7.710000e+03</td>\n",
              "      <td>7710.000000</td>\n",
              "      <td>7.710000e+03</td>\n",
              "      <td>7710.000000</td>\n",
              "      <td>7710.000000</td>\n",
              "      <td>7710.000000</td>\n",
              "      <td>7710.000000</td>\n",
              "      <td>7710.000000</td>\n",
              "      <td>7710.000000</td>\n",
              "      <td>...</td>\n",
              "      <td>7710.000000</td>\n",
              "      <td>7710.000000</td>\n",
              "      <td>7710.0</td>\n",
              "      <td>7710.000000</td>\n",
              "      <td>7710.000000</td>\n",
              "      <td>7710.000000</td>\n",
              "      <td>7710.000000</td>\n",
              "      <td>7710.000000</td>\n",
              "      <td>7710.000000</td>\n",
              "      <td>7710.000000</td>\n",
              "    </tr>\n",
              "    <tr>\n",
              "      <th>mean</th>\n",
              "      <td>2.274832e+04</td>\n",
              "      <td>2.274832e+04</td>\n",
              "      <td>3318.184112</td>\n",
              "      <td>8.140578e+03</td>\n",
              "      <td>5122.916424</td>\n",
              "      <td>761.689241</td>\n",
              "      <td>805.329385</td>\n",
              "      <td>1023.787826</td>\n",
              "      <td>927.514354</td>\n",
              "      <td>28.285447</td>\n",
              "      <td>...</td>\n",
              "      <td>1329.276003</td>\n",
              "      <td>592.944992</td>\n",
              "      <td>0.0</td>\n",
              "      <td>116.533341</td>\n",
              "      <td>1827.351926</td>\n",
              "      <td>359.247259</td>\n",
              "      <td>56.263564</td>\n",
              "      <td>657.348752</td>\n",
              "      <td>36.552756</td>\n",
              "      <td>4.189885</td>\n",
              "    </tr>\n",
              "    <tr>\n",
              "      <th>std</th>\n",
              "      <td>7.470570e+04</td>\n",
              "      <td>7.470570e+04</td>\n",
              "      <td>9658.863253</td>\n",
              "      <td>2.654620e+04</td>\n",
              "      <td>13381.140508</td>\n",
              "      <td>9024.408935</td>\n",
              "      <td>5185.413967</td>\n",
              "      <td>4623.889845</td>\n",
              "      <td>4442.963160</td>\n",
              "      <td>692.801952</td>\n",
              "      <td>...</td>\n",
              "      <td>8065.862042</td>\n",
              "      <td>2219.905670</td>\n",
              "      <td>0.0</td>\n",
              "      <td>2070.511499</td>\n",
              "      <td>9384.459880</td>\n",
              "      <td>3085.300723</td>\n",
              "      <td>1408.944384</td>\n",
              "      <td>5799.281743</td>\n",
              "      <td>640.847857</td>\n",
              "      <td>141.895437</td>\n",
              "    </tr>\n",
              "    <tr>\n",
              "      <th>min</th>\n",
              "      <td>3.000000e-02</td>\n",
              "      <td>3.000000e-02</td>\n",
              "      <td>0.000000</td>\n",
              "      <td>0.000000e+00</td>\n",
              "      <td>0.000000</td>\n",
              "      <td>0.000000</td>\n",
              "      <td>0.000000</td>\n",
              "      <td>0.000000</td>\n",
              "      <td>0.000000</td>\n",
              "      <td>0.000000</td>\n",
              "      <td>...</td>\n",
              "      <td>0.000000</td>\n",
              "      <td>0.000000</td>\n",
              "      <td>0.0</td>\n",
              "      <td>0.000000</td>\n",
              "      <td>0.000000</td>\n",
              "      <td>0.000000</td>\n",
              "      <td>0.000000</td>\n",
              "      <td>0.000000</td>\n",
              "      <td>0.000000</td>\n",
              "      <td>0.000000</td>\n",
              "    </tr>\n",
              "    <tr>\n",
              "      <th>25%</th>\n",
              "      <td>1.065895e+03</td>\n",
              "      <td>1.065895e+03</td>\n",
              "      <td>7.992500</td>\n",
              "      <td>7.527000e+01</td>\n",
              "      <td>42.272500</td>\n",
              "      <td>0.000000</td>\n",
              "      <td>0.000000</td>\n",
              "      <td>0.000000</td>\n",
              "      <td>0.000000</td>\n",
              "      <td>0.000000</td>\n",
              "      <td>...</td>\n",
              "      <td>0.000000</td>\n",
              "      <td>0.000000</td>\n",
              "      <td>0.0</td>\n",
              "      <td>0.000000</td>\n",
              "      <td>0.000000</td>\n",
              "      <td>0.000000</td>\n",
              "      <td>0.000000</td>\n",
              "      <td>0.000000</td>\n",
              "      <td>0.000000</td>\n",
              "      <td>0.000000</td>\n",
              "    </tr>\n",
              "    <tr>\n",
              "      <th>50%</th>\n",
              "      <td>4.745295e+03</td>\n",
              "      <td>4.745295e+03</td>\n",
              "      <td>329.195000</td>\n",
              "      <td>2.352000e+03</td>\n",
              "      <td>1425.850000</td>\n",
              "      <td>0.000000</td>\n",
              "      <td>0.000000</td>\n",
              "      <td>0.000000</td>\n",
              "      <td>0.000000</td>\n",
              "      <td>0.000000</td>\n",
              "      <td>...</td>\n",
              "      <td>0.000000</td>\n",
              "      <td>0.000000</td>\n",
              "      <td>0.0</td>\n",
              "      <td>0.000000</td>\n",
              "      <td>0.000000</td>\n",
              "      <td>0.000000</td>\n",
              "      <td>0.000000</td>\n",
              "      <td>0.000000</td>\n",
              "      <td>0.000000</td>\n",
              "      <td>0.000000</td>\n",
              "    </tr>\n",
              "    <tr>\n",
              "      <th>75%</th>\n",
              "      <td>1.103881e+04</td>\n",
              "      <td>1.103881e+04</td>\n",
              "      <td>3008.800000</td>\n",
              "      <td>7.195000e+03</td>\n",
              "      <td>4890.955000</td>\n",
              "      <td>0.000000</td>\n",
              "      <td>0.000000</td>\n",
              "      <td>0.000000</td>\n",
              "      <td>0.000000</td>\n",
              "      <td>0.000000</td>\n",
              "      <td>...</td>\n",
              "      <td>0.000000</td>\n",
              "      <td>0.000000</td>\n",
              "      <td>0.0</td>\n",
              "      <td>0.000000</td>\n",
              "      <td>154.782500</td>\n",
              "      <td>0.000000</td>\n",
              "      <td>0.000000</td>\n",
              "      <td>7.885000</td>\n",
              "      <td>0.000000</td>\n",
              "      <td>0.000000</td>\n",
              "    </tr>\n",
              "    <tr>\n",
              "      <th>max</th>\n",
              "      <td>1.857952e+06</td>\n",
              "      <td>1.857952e+06</td>\n",
              "      <td>327869.690000</td>\n",
              "      <td>1.302636e+06</td>\n",
              "      <td>370099.900000</td>\n",
              "      <td>331304.280000</td>\n",
              "      <td>157848.600000</td>\n",
              "      <td>99999.990000</td>\n",
              "      <td>96372.570000</td>\n",
              "      <td>54838.130000</td>\n",
              "      <td>...</td>\n",
              "      <td>277267.380000</td>\n",
              "      <td>80891.260000</td>\n",
              "      <td>0.0</td>\n",
              "      <td>154940.610000</td>\n",
              "      <td>291490.750000</td>\n",
              "      <td>92493.910000</td>\n",
              "      <td>88051.340000</td>\n",
              "      <td>327869.690000</td>\n",
              "      <td>26350.000000</td>\n",
              "      <td>7195.400000</td>\n",
              "    </tr>\n",
              "  </tbody>\n",
              "</table>\n",
              "<p>8 rows × 53 columns</p>\n",
              "</div>"
            ],
            "text/plain": [
              "       Gross charge  Discounted cash price  De-identified min contracted rate  \\\n",
              "count  7.710000e+03           7.710000e+03                        7710.000000   \n",
              "mean   2.274832e+04           2.274832e+04                        3318.184112   \n",
              "std    7.470570e+04           7.470570e+04                        9658.863253   \n",
              "min    3.000000e-02           3.000000e-02                           0.000000   \n",
              "25%    1.065895e+03           1.065895e+03                           7.992500   \n",
              "50%    4.745295e+03           4.745295e+03                         329.195000   \n",
              "75%    1.103881e+04           1.103881e+04                        3008.800000   \n",
              "max    1.857952e+06           1.857952e+06                      327869.690000   \n",
              "\n",
              "       De-identified max contracted rate  Derived contracted rate  \\\n",
              "count                       7.710000e+03              7710.000000   \n",
              "mean                        8.140578e+03              5122.916424   \n",
              "std                         2.654620e+04             13381.140508   \n",
              "min                         0.000000e+00                 0.000000   \n",
              "25%                         7.527000e+01                42.272500   \n",
              "50%                         2.352000e+03              1425.850000   \n",
              "75%                         7.195000e+03              4890.955000   \n",
              "max                         1.302636e+06            370099.900000   \n",
              "\n",
              "       1199-Commercial other  Aetna-Medicare Advantage HMO  \\\n",
              "count            7710.000000                   7710.000000   \n",
              "mean              761.689241                    805.329385   \n",
              "std              9024.408935                   5185.413967   \n",
              "min                 0.000000                      0.000000   \n",
              "25%                 0.000000                      0.000000   \n",
              "50%                 0.000000                      0.000000   \n",
              "75%                 0.000000                      0.000000   \n",
              "max            331304.280000                 157848.600000   \n",
              "\n",
              "       Aetna-Commercial HMO/POS  Aetna-Commercial PPO/Open Access  \\\n",
              "count               7710.000000                       7710.000000   \n",
              "mean                1023.787826                        927.514354   \n",
              "std                 4623.889845                       4442.963160   \n",
              "min                    0.000000                          0.000000   \n",
              "25%                    0.000000                          0.000000   \n",
              "50%                    0.000000                          0.000000   \n",
              "75%                    0.000000                          0.000000   \n",
              "max                99999.990000                      96372.570000   \n",
              "\n",
              "       Aetna-Commercial other  ...  Optum-Commercial other  \\\n",
              "count             7710.000000  ...             7710.000000   \n",
              "mean                28.285447  ...             1329.276003   \n",
              "std                692.801952  ...             8065.862042   \n",
              "min                  0.000000  ...                0.000000   \n",
              "25%                  0.000000  ...                0.000000   \n",
              "50%                  0.000000  ...                0.000000   \n",
              "75%                  0.000000  ...                0.000000   \n",
              "max              54838.130000  ...           277267.380000   \n",
              "\n",
              "       Oxford-Commercial other  Oxford-Commercial HMO/POS  \\\n",
              "count              7710.000000                     7710.0   \n",
              "mean                592.944992                        0.0   \n",
              "std                2219.905670                        0.0   \n",
              "min                   0.000000                        0.0   \n",
              "25%                   0.000000                        0.0   \n",
              "50%                   0.000000                        0.0   \n",
              "75%                   0.000000                        0.0   \n",
              "max               80891.260000                        0.0   \n",
              "\n",
              "       Tricare-Commercial other  United Healthcare-Commercial other  \\\n",
              "count               7710.000000                         7710.000000   \n",
              "mean                 116.533341                         1827.351926   \n",
              "std                 2070.511499                         9384.459880   \n",
              "min                    0.000000                            0.000000   \n",
              "25%                    0.000000                            0.000000   \n",
              "50%                    0.000000                            0.000000   \n",
              "75%                    0.000000                          154.782500   \n",
              "max               154940.610000                       291490.750000   \n",
              "\n",
              "       United Healthcare-Medicare Advantage HMO  \\\n",
              "count                               7710.000000   \n",
              "mean                                 359.247259   \n",
              "std                                 3085.300723   \n",
              "min                                    0.000000   \n",
              "25%                                    0.000000   \n",
              "50%                                    0.000000   \n",
              "75%                                    0.000000   \n",
              "max                                92493.910000   \n",
              "\n",
              "       United Healthcare-Commercial HMO/POS  United Healthcare-Medicaid HMO  \\\n",
              "count                           7710.000000                     7710.000000   \n",
              "mean                              56.263564                      657.348752   \n",
              "std                             1408.944384                     5799.281743   \n",
              "min                                0.000000                        0.000000   \n",
              "25%                                0.000000                        0.000000   \n",
              "50%                                0.000000                        0.000000   \n",
              "75%                                0.000000                        7.885000   \n",
              "max                            88051.340000                   327869.690000   \n",
              "\n",
              "       United Healthcare-Commercial PPO/Open Access  \\\n",
              "count                                   7710.000000   \n",
              "mean                                      36.552756   \n",
              "std                                      640.847857   \n",
              "min                                        0.000000   \n",
              "25%                                        0.000000   \n",
              "50%                                        0.000000   \n",
              "75%                                        0.000000   \n",
              "max                                    26350.000000   \n",
              "\n",
              "       Veteran Family-Commercial other  \n",
              "count                      7710.000000  \n",
              "mean                          4.189885  \n",
              "std                         141.895437  \n",
              "min                           0.000000  \n",
              "25%                           0.000000  \n",
              "50%                           0.000000  \n",
              "75%                           0.000000  \n",
              "max                        7195.400000  \n",
              "\n",
              "[8 rows x 53 columns]"
            ]
          },
          "execution_count": 9,
          "metadata": {},
          "output_type": "execute_result"
        }
      ],
      "source": [
        "sbu.describe()"
      ]
    },
    {
      "cell_type": "code",
      "execution_count": 10,
      "metadata": {
        "id": "5ZJwvtENbFyV"
      },
      "outputs": [
        {
          "name": "stdout",
          "output_type": "stream",
          "text": [
            "The median gross charge is 4745.295\n",
            "The median discounted cash price is 4745.295\n",
            "The median derived contacted rate is 1425.85\n"
          ]
        }
      ],
      "source": [
        "median_GrossCharge = sbu['Gross charge'].median()\n",
        "print('The median gross charge is', median_GrossCharge)\n",
        "\n",
        "median_DiscountedCashPrice = sbu['Discounted cash price'].median()\n",
        "print('The median discounted cash price is', median_DiscountedCashPrice)\n",
        "\n",
        "median_DerivedContractedRate = sbu['Derived contracted rate'].median()\n",
        "print('The median derived contacted rate is', median_DerivedContractedRate)"
      ]
    },
    {
      "cell_type": "code",
      "execution_count": 11,
      "metadata": {
        "id": "_C-V6_tJbFyW"
      },
      "outputs": [
        {
          "name": "stdout",
          "output_type": "stream",
          "text": [
            "The median gross charge is 0    8165.0\n",
            "Name: Gross charge, dtype: float64\n",
            "The median discounted cash price is 0    8165.0\n",
            "Name: Discounted cash price, dtype: float64\n",
            "The median derived contacted rate is 0    0.0\n",
            "Name: Derived contracted rate, dtype: float64\n"
          ]
        }
      ],
      "source": [
        "mode_GrossCharge = sbu['Gross charge'].mode()\n",
        "print('The median gross charge is', mode_GrossCharge)\n",
        "\n",
        "mode_DiscountedCashPrice = sbu['Discounted cash price'].mode()\n",
        "print('The median discounted cash price is',mode_DiscountedCashPrice)\n",
        "\n",
        "mode_DerivedContractedRate = sbu['Derived contracted rate'].mode()\n",
        "print('The median derived contacted rate is', mode_DerivedContractedRate)"
      ]
    },
    {
      "cell_type": "markdown",
      "metadata": {
        "id": "aQg74ojqbFyW"
      },
      "source": [
        "#### Frequency Counts"
      ]
    },
    {
      "cell_type": "code",
      "execution_count": 12,
      "metadata": {
        "id": "CuiJr1tubFyW"
      },
      "outputs": [
        {
          "data": {
            "text/plain": [
              "array(['Code', 'Description', 'Type', 'Package/Line_Level',\n",
              "       'Gross charge', 'Discounted cash price',\n",
              "       'De-identified min contracted rate',\n",
              "       'De-identified max contracted rate', 'Derived contracted rate',\n",
              "       '1199-Commercial other', 'Aetna-Medicare Advantage HMO',\n",
              "       'Aetna-Commercial HMO/POS', 'Aetna-Commercial PPO/Open Access',\n",
              "       'Aetna-Commercial other', 'Empire Health-Commercial other',\n",
              "       'Empire Health-Commercial PPO/Open Access',\n",
              "       'BlueCross BlueShield-Commercial other',\n",
              "       'Beacon Health-Commercial other',\n",
              "       'Carelon Health-Commercial other',\n",
              "       'Cigna-Commercial PPO/Open Access', 'Cigna-Commercial other',\n",
              "       'Cigna-Commercial HMO/POS', 'EH Facet-Commercial other',\n",
              "       'EmblemHealth-Commercial PPO/Open Access',\n",
              "       'EmblemHealth-Commercial other', 'EmblemHealth-Commercial HMO/POS',\n",
              "       'EmblemHealth-Medicaid HMO', 'EmblemHealth-Medicare Advantage HMO',\n",
              "       'Empire Health-Commercial HMO/POS',\n",
              "       'Empire Health-Medicare Advantage HMO',\n",
              "       'Empire Health-Medicaid HMO', 'Evernorth-Commercial other',\n",
              "       'Fidelis-Commercial other', 'Fidelis-Medicare Advantage HMO',\n",
              "       'Fidelis-Medicaid HMO', 'GHI-Commercial other',\n",
              "       'HealthFirst-Commercial other',\n",
              "       'HealthFirst-Medicare Advantage HMO', 'HealthFirst-Medicaid HMO',\n",
              "       'HealthPlus HP-Medicaid HMO', 'HealthPlus HP-Commercial other',\n",
              "       'HealthPlus HP-Medicare Advantage HMO', 'Humana-Commercial other',\n",
              "       'Humana-Commercial HMO/POS', 'Humana-Commercial PPO/Open Access',\n",
              "       'Meritain Health-Commercial other', 'Molina-Commercial other',\n",
              "       'Optum-Commercial other', 'Oxford-Commercial other',\n",
              "       'Oxford-Commercial HMO/POS', 'Tricare-Commercial other',\n",
              "       'United Healthcare-Commercial other',\n",
              "       'United Healthcare-Medicare Advantage HMO',\n",
              "       'United Healthcare-Commercial HMO/POS',\n",
              "       'United Healthcare-Medicaid HMO',\n",
              "       'United Healthcare-Commercial PPO/Open Access',\n",
              "       'Veteran Family-Commercial other'], dtype=object)"
            ]
          },
          "execution_count": 12,
          "metadata": {},
          "output_type": "execute_result"
        }
      ],
      "source": [
        "sbu.columns.values"
      ]
    },
    {
      "cell_type": "code",
      "execution_count": null,
      "metadata": {
        "id": "6MynQBWwbFyW"
      },
      "outputs": [],
      "source": []
    },
    {
      "cell_type": "markdown",
      "metadata": {
        "id": "yOYqnjYjbFyW"
      },
      "source": [
        "### Analyze The Second Hospital: St Joseph's Hospital"
      ]
    },
    {
      "cell_type": "markdown",
      "metadata": {
        "id": "xxUsLKPLbFyX"
      },
      "source": [
        "#### Cleaning the Data"
      ]
    },
    {
      "cell_type": "code",
      "execution_count": 13,
      "metadata": {
        "id": "njgKY9RtbFyX",
        "outputId": "a8375f5e-8592-4541-98a3-bc390c406f30"
      },
      "outputs": [
        {
          "data": {
            "text/html": [
              "<div>\n",
              "<style scoped>\n",
              "    .dataframe tbody tr th:only-of-type {\n",
              "        vertical-align: middle;\n",
              "    }\n",
              "\n",
              "    .dataframe tbody tr th {\n",
              "        vertical-align: top;\n",
              "    }\n",
              "\n",
              "    .dataframe thead th {\n",
              "        text-align: right;\n",
              "    }\n",
              "</style>\n",
              "<table border=\"1\" class=\"dataframe\">\n",
              "  <thead>\n",
              "    <tr style=\"text-align: right;\">\n",
              "      <th></th>\n",
              "      <th>Billing/Charge Code</th>\n",
              "      <th>Charge Description</th>\n",
              "      <th>Rev Code</th>\n",
              "      <th>CPT/HCPC</th>\n",
              "      <th>Price</th>\n",
              "      <th>NDC</th>\n",
              "      <th>Package Size</th>\n",
              "      <th>Package Unit</th>\n",
              "      <th>Package Description</th>\n",
              "      <th>Charge Quantity</th>\n",
              "    </tr>\n",
              "  </thead>\n",
              "  <tbody>\n",
              "    <tr>\n",
              "      <th>0</th>\n",
              "      <td>3018437801</td>\n",
              "      <td>HC 1,5 ANHYDROGLUCITOL,INTERM GLY CNTRL Q10378</td>\n",
              "      <td>301</td>\n",
              "      <td>84378</td>\n",
              "      <td>229.0</td>\n",
              "      <td>NaN</td>\n",
              "      <td>NaN</td>\n",
              "      <td>NaN</td>\n",
              "      <td>NaN</td>\n",
              "      <td>NaN</td>\n",
              "    </tr>\n",
              "    <tr>\n",
              "      <th>1</th>\n",
              "      <td>3018263400</td>\n",
              "      <td>HC 11 DEOXYCORTISOL</td>\n",
              "      <td>301</td>\n",
              "      <td>82634</td>\n",
              "      <td>271.0</td>\n",
              "      <td>NaN</td>\n",
              "      <td>NaN</td>\n",
              "      <td>NaN</td>\n",
              "      <td>NaN</td>\n",
              "      <td>NaN</td>\n",
              "    </tr>\n",
              "    <tr>\n",
              "      <th>2</th>\n",
              "      <td>3018414300</td>\n",
              "      <td>HC 17 HYDROXPREGNENOLONE</td>\n",
              "      <td>301</td>\n",
              "      <td>84143</td>\n",
              "      <td>177.0</td>\n",
              "      <td>NaN</td>\n",
              "      <td>NaN</td>\n",
              "      <td>NaN</td>\n",
              "      <td>NaN</td>\n",
              "      <td>NaN</td>\n",
              "    </tr>\n",
              "    <tr>\n",
              "      <th>3</th>\n",
              "      <td>3018349800</td>\n",
              "      <td>HC 17 HYDROXYPROGESTERONE</td>\n",
              "      <td>301</td>\n",
              "      <td>83498</td>\n",
              "      <td>561.0</td>\n",
              "      <td>NaN</td>\n",
              "      <td>NaN</td>\n",
              "      <td>NaN</td>\n",
              "      <td>NaN</td>\n",
              "      <td>NaN</td>\n",
              "    </tr>\n",
              "    <tr>\n",
              "      <th>4</th>\n",
              "      <td>3603621500</td>\n",
              "      <td>HC 1ST ORD SEL CATH ART THORAC</td>\n",
              "      <td>360</td>\n",
              "      <td>36215</td>\n",
              "      <td>908.0</td>\n",
              "      <td>NaN</td>\n",
              "      <td>NaN</td>\n",
              "      <td>NaN</td>\n",
              "      <td>NaN</td>\n",
              "      <td>NaN</td>\n",
              "    </tr>\n",
              "  </tbody>\n",
              "</table>\n",
              "</div>"
            ],
            "text/plain": [
              "   Billing/Charge Code                             Charge Description   \\\n",
              "0           3018437801  HC 1,5 ANHYDROGLUCITOL,INTERM GLY CNTRL Q10378   \n",
              "1           3018263400                             HC 11 DEOXYCORTISOL   \n",
              "2           3018414300                        HC 17 HYDROXPREGNENOLONE   \n",
              "3           3018349800                       HC 17 HYDROXYPROGESTERONE   \n",
              "4           3603621500                  HC 1ST ORD SEL CATH ART THORAC   \n",
              "\n",
              "   Rev Code CPT/HCPC  Price  NDC  Package Size Package Unit  \\\n",
              "0       301    84378  229.0  NaN           NaN          NaN   \n",
              "1       301    82634  271.0  NaN           NaN          NaN   \n",
              "2       301    84143  177.0  NaN           NaN          NaN   \n",
              "3       301    83498  561.0  NaN           NaN          NaN   \n",
              "4       360    36215  908.0  NaN           NaN          NaN   \n",
              "\n",
              "  Package Description Charge Quantity  \n",
              "0                 NaN             NaN  \n",
              "1                 NaN             NaN  \n",
              "2                 NaN             NaN  \n",
              "3                 NaN             NaN  \n",
              "4                 NaN             NaN  "
            ]
          },
          "execution_count": 13,
          "metadata": {},
          "output_type": "execute_result"
        }
      ],
      "source": [
        "stjoe.head(5)"
      ]
    },
    {
      "cell_type": "code",
      "execution_count": 14,
      "metadata": {
        "id": "DuTI9tTBbFyX",
        "outputId": "35c32db6-e7ff-4b81-ca3d-e404276f20bc"
      },
      "outputs": [
        {
          "data": {
            "text/html": [
              "<div>\n",
              "<style scoped>\n",
              "    .dataframe tbody tr th:only-of-type {\n",
              "        vertical-align: middle;\n",
              "    }\n",
              "\n",
              "    .dataframe tbody tr th {\n",
              "        vertical-align: top;\n",
              "    }\n",
              "\n",
              "    .dataframe thead th {\n",
              "        text-align: right;\n",
              "    }\n",
              "</style>\n",
              "<table border=\"1\" class=\"dataframe\">\n",
              "  <thead>\n",
              "    <tr style=\"text-align: right;\">\n",
              "      <th></th>\n",
              "      <th>Billing/Charge Code</th>\n",
              "      <th>Charge Description</th>\n",
              "      <th>Rev Code</th>\n",
              "      <th>CPT/HCPC</th>\n",
              "      <th>Price</th>\n",
              "      <th>NDC</th>\n",
              "      <th>Package Size</th>\n",
              "      <th>Package Unit</th>\n",
              "      <th>Package Description</th>\n",
              "      <th>Charge Quantity</th>\n",
              "    </tr>\n",
              "  </thead>\n",
              "  <tbody>\n",
              "    <tr>\n",
              "      <th>65023</th>\n",
              "      <td>6370000002</td>\n",
              "      <td>XRX ZONISAMIDE 25 MG PO CAPS</td>\n",
              "      <td>250</td>\n",
              "      <td>NaN</td>\n",
              "      <td>316.0</td>\n",
              "      <td>62756-258-02</td>\n",
              "      <td>100.0</td>\n",
              "      <td>each</td>\n",
              "      <td>Bottle</td>\n",
              "      <td>100 each</td>\n",
              "    </tr>\n",
              "    <tr>\n",
              "      <th>65024</th>\n",
              "      <td>6370000002</td>\n",
              "      <td>XRX ZONISAMIDE 50 MG PO CAPS</td>\n",
              "      <td>250</td>\n",
              "      <td>NaN</td>\n",
              "      <td>631.0</td>\n",
              "      <td>0378-6726-01</td>\n",
              "      <td>100.0</td>\n",
              "      <td>each</td>\n",
              "      <td>Bottle</td>\n",
              "      <td>100 each</td>\n",
              "    </tr>\n",
              "    <tr>\n",
              "      <th>65025</th>\n",
              "      <td>6370000002</td>\n",
              "      <td>XRX ZONISAMIDE 50 MG PO CAPS</td>\n",
              "      <td>250</td>\n",
              "      <td>NaN</td>\n",
              "      <td>631.0</td>\n",
              "      <td>62756-259-02</td>\n",
              "      <td>100.0</td>\n",
              "      <td>each</td>\n",
              "      <td>Bottle</td>\n",
              "      <td>100 each</td>\n",
              "    </tr>\n",
              "    <tr>\n",
              "      <th>65026</th>\n",
              "      <td>6370000002</td>\n",
              "      <td>XRX ZONISAMIDE 50 MG PO CAPS</td>\n",
              "      <td>250</td>\n",
              "      <td>NaN</td>\n",
              "      <td>631.0</td>\n",
              "      <td>68001-243-00</td>\n",
              "      <td>100.0</td>\n",
              "      <td>each</td>\n",
              "      <td>Bottle</td>\n",
              "      <td>100 each</td>\n",
              "    </tr>\n",
              "    <tr>\n",
              "      <th>65027</th>\n",
              "      <td>6360000001</td>\n",
              "      <td>XRX ZOSTER VACCINE LIVE 19400 UNT/0.65ML SC SUSR</td>\n",
              "      <td>636</td>\n",
              "      <td>90736</td>\n",
              "      <td>1540.0</td>\n",
              "      <td>0006-4963-00</td>\n",
              "      <td>1.0</td>\n",
              "      <td>each</td>\n",
              "      <td>Vial</td>\n",
              "      <td>1 each</td>\n",
              "    </tr>\n",
              "  </tbody>\n",
              "</table>\n",
              "</div>"
            ],
            "text/plain": [
              "       Billing/Charge Code                               Charge Description   \\\n",
              "65023           6370000002                      XRX ZONISAMIDE 25 MG PO CAPS   \n",
              "65024           6370000002                      XRX ZONISAMIDE 50 MG PO CAPS   \n",
              "65025           6370000002                      XRX ZONISAMIDE 50 MG PO CAPS   \n",
              "65026           6370000002                      XRX ZONISAMIDE 50 MG PO CAPS   \n",
              "65027           6360000001  XRX ZOSTER VACCINE LIVE 19400 UNT/0.65ML SC SUSR   \n",
              "\n",
              "       Rev Code CPT/HCPC   Price           NDC  Package Size Package Unit  \\\n",
              "65023       250      NaN   316.0  62756-258-02         100.0         each   \n",
              "65024       250      NaN   631.0  0378-6726-01         100.0         each   \n",
              "65025       250      NaN   631.0  62756-259-02         100.0         each   \n",
              "65026       250      NaN   631.0  68001-243-00         100.0         each   \n",
              "65027       636    90736  1540.0  0006-4963-00           1.0         each   \n",
              "\n",
              "      Package Description Charge Quantity  \n",
              "65023              Bottle        100 each  \n",
              "65024              Bottle        100 each  \n",
              "65025              Bottle        100 each  \n",
              "65026              Bottle        100 each  \n",
              "65027                Vial          1 each  "
            ]
          },
          "execution_count": 14,
          "metadata": {},
          "output_type": "execute_result"
        }
      ],
      "source": [
        "stjoe.tail(5)"
      ]
    },
    {
      "cell_type": "code",
      "execution_count": 15,
      "metadata": {
        "id": "wt_YIKKUbFyX"
      },
      "outputs": [],
      "source": [
        "stjoe.drop_duplicates(inplace = True)"
      ]
    },
    {
      "cell_type": "code",
      "execution_count": 16,
      "metadata": {
        "id": "fDKnxnPUbFyY",
        "outputId": "be44f025-8a90-499c-a2da-9a001cffee46"
      },
      "outputs": [
        {
          "data": {
            "text/html": [
              "<div>\n",
              "<style scoped>\n",
              "    .dataframe tbody tr th:only-of-type {\n",
              "        vertical-align: middle;\n",
              "    }\n",
              "\n",
              "    .dataframe tbody tr th {\n",
              "        vertical-align: top;\n",
              "    }\n",
              "\n",
              "    .dataframe thead th {\n",
              "        text-align: right;\n",
              "    }\n",
              "</style>\n",
              "<table border=\"1\" class=\"dataframe\">\n",
              "  <thead>\n",
              "    <tr style=\"text-align: right;\">\n",
              "      <th></th>\n",
              "      <th>Billing/Charge Code</th>\n",
              "      <th>Charge Description</th>\n",
              "      <th>Rev Code</th>\n",
              "      <th>CPT/HCPC</th>\n",
              "      <th>Price</th>\n",
              "      <th>NDC</th>\n",
              "      <th>Package Size</th>\n",
              "      <th>Package Unit</th>\n",
              "      <th>Package Description</th>\n",
              "      <th>Charge Quantity</th>\n",
              "    </tr>\n",
              "  </thead>\n",
              "  <tbody>\n",
              "    <tr>\n",
              "      <th>65023</th>\n",
              "      <td>6370000002</td>\n",
              "      <td>XRX ZONISAMIDE 25 MG PO CAPS</td>\n",
              "      <td>250</td>\n",
              "      <td>NaN</td>\n",
              "      <td>316.0</td>\n",
              "      <td>62756-258-02</td>\n",
              "      <td>100.0</td>\n",
              "      <td>each</td>\n",
              "      <td>Bottle</td>\n",
              "      <td>100 each</td>\n",
              "    </tr>\n",
              "    <tr>\n",
              "      <th>65024</th>\n",
              "      <td>6370000002</td>\n",
              "      <td>XRX ZONISAMIDE 50 MG PO CAPS</td>\n",
              "      <td>250</td>\n",
              "      <td>NaN</td>\n",
              "      <td>631.0</td>\n",
              "      <td>0378-6726-01</td>\n",
              "      <td>100.0</td>\n",
              "      <td>each</td>\n",
              "      <td>Bottle</td>\n",
              "      <td>100 each</td>\n",
              "    </tr>\n",
              "    <tr>\n",
              "      <th>65025</th>\n",
              "      <td>6370000002</td>\n",
              "      <td>XRX ZONISAMIDE 50 MG PO CAPS</td>\n",
              "      <td>250</td>\n",
              "      <td>NaN</td>\n",
              "      <td>631.0</td>\n",
              "      <td>62756-259-02</td>\n",
              "      <td>100.0</td>\n",
              "      <td>each</td>\n",
              "      <td>Bottle</td>\n",
              "      <td>100 each</td>\n",
              "    </tr>\n",
              "    <tr>\n",
              "      <th>65026</th>\n",
              "      <td>6370000002</td>\n",
              "      <td>XRX ZONISAMIDE 50 MG PO CAPS</td>\n",
              "      <td>250</td>\n",
              "      <td>NaN</td>\n",
              "      <td>631.0</td>\n",
              "      <td>68001-243-00</td>\n",
              "      <td>100.0</td>\n",
              "      <td>each</td>\n",
              "      <td>Bottle</td>\n",
              "      <td>100 each</td>\n",
              "    </tr>\n",
              "    <tr>\n",
              "      <th>65027</th>\n",
              "      <td>6360000001</td>\n",
              "      <td>XRX ZOSTER VACCINE LIVE 19400 UNT/0.65ML SC SUSR</td>\n",
              "      <td>636</td>\n",
              "      <td>90736</td>\n",
              "      <td>1540.0</td>\n",
              "      <td>0006-4963-00</td>\n",
              "      <td>1.0</td>\n",
              "      <td>each</td>\n",
              "      <td>Vial</td>\n",
              "      <td>1 each</td>\n",
              "    </tr>\n",
              "  </tbody>\n",
              "</table>\n",
              "</div>"
            ],
            "text/plain": [
              "       Billing/Charge Code                               Charge Description   \\\n",
              "65023           6370000002                      XRX ZONISAMIDE 25 MG PO CAPS   \n",
              "65024           6370000002                      XRX ZONISAMIDE 50 MG PO CAPS   \n",
              "65025           6370000002                      XRX ZONISAMIDE 50 MG PO CAPS   \n",
              "65026           6370000002                      XRX ZONISAMIDE 50 MG PO CAPS   \n",
              "65027           6360000001  XRX ZOSTER VACCINE LIVE 19400 UNT/0.65ML SC SUSR   \n",
              "\n",
              "       Rev Code CPT/HCPC   Price           NDC  Package Size Package Unit  \\\n",
              "65023       250      NaN   316.0  62756-258-02         100.0         each   \n",
              "65024       250      NaN   631.0  0378-6726-01         100.0         each   \n",
              "65025       250      NaN   631.0  62756-259-02         100.0         each   \n",
              "65026       250      NaN   631.0  68001-243-00         100.0         each   \n",
              "65027       636    90736  1540.0  0006-4963-00           1.0         each   \n",
              "\n",
              "      Package Description Charge Quantity  \n",
              "65023              Bottle        100 each  \n",
              "65024              Bottle        100 each  \n",
              "65025              Bottle        100 each  \n",
              "65026              Bottle        100 each  \n",
              "65027                Vial          1 each  "
            ]
          },
          "execution_count": 16,
          "metadata": {},
          "output_type": "execute_result"
        }
      ],
      "source": [
        "stjoe.tail(5)"
      ]
    },
    {
      "cell_type": "markdown",
      "metadata": {
        "id": "k6NH5ApHbFyY"
      },
      "source": [
        "I thought that some values under Charge Description might be duplicates but they vary in their National Drug Codes"
      ]
    },
    {
      "cell_type": "code",
      "execution_count": 17,
      "metadata": {
        "id": "6TFQPO-JbFyY",
        "outputId": "b0e92c63-a951-48b6-b99f-946643bf7288"
      },
      "outputs": [
        {
          "data": {
            "text/plain": [
              "Billing/Charge Code        0\n",
              "Charge Description         0\n",
              "Rev Code                   0\n",
              "CPT/HCPC               14468\n",
              "Price                     92\n",
              "NDC                    51047\n",
              "Package Size           51047\n",
              "Package Unit           51047\n",
              "Package Description    51110\n",
              "Charge Quantity        51047\n",
              "dtype: int64"
            ]
          },
          "execution_count": 17,
          "metadata": {},
          "output_type": "execute_result"
        }
      ],
      "source": [
        "stjoe.isnull().sum()"
      ]
    },
    {
      "cell_type": "code",
      "execution_count": 18,
      "metadata": {
        "id": "9IZu9fJcbFyY",
        "outputId": "0029a86f-473c-4e21-edbd-2e582dad2874"
      },
      "outputs": [
        {
          "data": {
            "text/html": [
              "<div>\n",
              "<style scoped>\n",
              "    .dataframe tbody tr th:only-of-type {\n",
              "        vertical-align: middle;\n",
              "    }\n",
              "\n",
              "    .dataframe tbody tr th {\n",
              "        vertical-align: top;\n",
              "    }\n",
              "\n",
              "    .dataframe thead th {\n",
              "        text-align: right;\n",
              "    }\n",
              "</style>\n",
              "<table border=\"1\" class=\"dataframe\">\n",
              "  <thead>\n",
              "    <tr style=\"text-align: right;\">\n",
              "      <th></th>\n",
              "      <th>Billing/Charge Code</th>\n",
              "      <th>Rev Code</th>\n",
              "      <th>Price</th>\n",
              "      <th>Package Size</th>\n",
              "    </tr>\n",
              "  </thead>\n",
              "  <tbody>\n",
              "    <tr>\n",
              "      <th>count</th>\n",
              "      <td>6.375900e+04</td>\n",
              "      <td>63759.000000</td>\n",
              "      <td>63667.000000</td>\n",
              "      <td>12712.000000</td>\n",
              "    </tr>\n",
              "    <tr>\n",
              "      <th>mean</th>\n",
              "      <td>3.503663e+09</td>\n",
              "      <td>308.012422</td>\n",
              "      <td>5923.516640</td>\n",
              "      <td>99.120812</td>\n",
              "    </tr>\n",
              "    <tr>\n",
              "      <th>std</th>\n",
              "      <td>1.429444e+09</td>\n",
              "      <td>104.000353</td>\n",
              "      <td>13610.656173</td>\n",
              "      <td>250.988879</td>\n",
              "    </tr>\n",
              "    <tr>\n",
              "      <th>min</th>\n",
              "      <td>1.210000e+09</td>\n",
              "      <td>121.000000</td>\n",
              "      <td>0.000000</td>\n",
              "      <td>0.025000</td>\n",
              "    </tr>\n",
              "    <tr>\n",
              "      <th>25%</th>\n",
              "      <td>2.780171e+09</td>\n",
              "      <td>278.000000</td>\n",
              "      <td>424.000000</td>\n",
              "      <td>2.000000</td>\n",
              "    </tr>\n",
              "    <tr>\n",
              "      <th>50%</th>\n",
              "      <td>2.780177e+09</td>\n",
              "      <td>278.000000</td>\n",
              "      <td>2021.130000</td>\n",
              "      <td>30.000000</td>\n",
              "    </tr>\n",
              "    <tr>\n",
              "      <th>75%</th>\n",
              "      <td>2.799000e+09</td>\n",
              "      <td>279.000000</td>\n",
              "      <td>5717.690000</td>\n",
              "      <td>100.000000</td>\n",
              "    </tr>\n",
              "    <tr>\n",
              "      <th>max</th>\n",
              "      <td>9.590102e+09</td>\n",
              "      <td>959.000000</td>\n",
              "      <td>574568.750000</td>\n",
              "      <td>5000.000000</td>\n",
              "    </tr>\n",
              "  </tbody>\n",
              "</table>\n",
              "</div>"
            ],
            "text/plain": [
              "       Billing/Charge Code      Rev Code          Price  Package Size\n",
              "count         6.375900e+04  63759.000000   63667.000000  12712.000000\n",
              "mean          3.503663e+09    308.012422    5923.516640     99.120812\n",
              "std           1.429444e+09    104.000353   13610.656173    250.988879\n",
              "min           1.210000e+09    121.000000       0.000000      0.025000\n",
              "25%           2.780171e+09    278.000000     424.000000      2.000000\n",
              "50%           2.780177e+09    278.000000    2021.130000     30.000000\n",
              "75%           2.799000e+09    279.000000    5717.690000    100.000000\n",
              "max           9.590102e+09    959.000000  574568.750000   5000.000000"
            ]
          },
          "execution_count": 18,
          "metadata": {},
          "output_type": "execute_result"
        }
      ],
      "source": [
        "stjoe.describe()"
      ]
    },
    {
      "cell_type": "markdown",
      "metadata": {
        "id": "CDNqFnBSbFyY"
      },
      "source": [
        "#### Descriptive Statistics"
      ]
    },
    {
      "cell_type": "code",
      "execution_count": 19,
      "metadata": {
        "id": "5GPD2163bFyY",
        "outputId": "53c7422e-f91d-4529-b025-18a09d65c78c"
      },
      "outputs": [
        {
          "name": "stdout",
          "output_type": "stream",
          "text": [
            "the mean price is 5923.516639860524\n",
            "the median price is 2021.13\n",
            "the mode price is 4064.1\n",
            "the standard dcviation of price is 13610.656173073985\n",
            "the standard dcviation of price is 185249961.461637\n"
          ]
        }
      ],
      "source": [
        "mean_price = stjoe['Price'].mean()\n",
        "print('the mean price is', mean_price)\n",
        "\n",
        "median_price = stjoe['Price'].median()\n",
        "print('the median price is', median_price)\n",
        "\n",
        "mode_price = stjoe['Price'].mode().iloc[0]\n",
        "print('the mode price is', mode_price)\n",
        "\n",
        "std_price = stjoe['Price'].std()\n",
        "print('the standard dcviation of price is', std_price)\n",
        "\n",
        "var_price = stjoe['Price'].var()\n",
        "print('the standard dcviation of price is', var_price)\n"
      ]
    },
    {
      "cell_type": "markdown",
      "metadata": {
        "id": "ieXsBjNrbFyZ"
      },
      "source": [
        "#### Frequency Counts"
      ]
    },
    {
      "cell_type": "code",
      "execution_count": 20,
      "metadata": {
        "id": "Z4-63o8hbFyZ",
        "outputId": "0bdd6057-2213-4742-d231-ae7663745099"
      },
      "outputs": [
        {
          "data": {
            "text/plain": [
              "Index(['Billing_Charge Code', 'Charge Description', 'Rev Code', 'CPT_HCPC',\n",
              "       'Price', 'NDC', 'Package Size', 'Package Unit', 'Package Description',\n",
              "       'Charge Quantity'],\n",
              "      dtype='object')"
            ]
          },
          "execution_count": 20,
          "metadata": {},
          "output_type": "execute_result"
        }
      ],
      "source": [
        "stjoe.columns = stjoe.columns.str.strip()\n",
        "stjoe.columns = stjoe.columns.str.replace('/','_')\n",
        "stjoe.columns"
      ]
    },
    {
      "cell_type": "code",
      "execution_count": 21,
      "metadata": {
        "id": "lSZrkPpsbFyZ",
        "outputId": "6e107252-7ef5-4f17-a337-3f625a130c28"
      },
      "outputs": [
        {
          "name": "stdout",
          "output_type": "stream",
          "text": [
            "\n",
            "This is the frequency count for Billing/Charge Code\n",
            " 2780171301    10739\n",
            "6370000002     6866\n",
            "2780177600     4664\n",
            "2780000057     4524\n",
            "6360000001     3707\n",
            "              ...  \n",
            "6147556300        1\n",
            "6147555700        1\n",
            "6147556100        1\n",
            "6147555900        1\n",
            "2791725168        1\n",
            "Name: Billing_Charge Code, Length: 9536, dtype: int64\n",
            "\n",
            "This is the frequency count for charge description\n",
            " XRX FUROSEMIDE 10 MG/ML IJ SOLN                      33\n",
            "XRX FENTANYL CITRATE 50 MCG/ML IJ SOLN (WRAPPER)     33\n",
            "XRX SODIUM CHLORIDE 0.9 % IV SOLN                    32\n",
            "XRX ROCURONIUM BROMIDE 10 MG/ML IV SOLN (WRAPPER)    28\n",
            "XRX DEXTROSE 5 % IV SOLN                             25\n",
            "                                                     ..\n",
            "ORMS&D CATH COUDE LUB 16FR 5CC                        1\n",
            "ORMS&D CATH COUDE LUB 18FR 5CC                        1\n",
            "ORMS&D CATH COUDE LUB 22FR 5CC                        1\n",
            "ORMS&D CATH COUDE LUB 24FR 5CC                        1\n",
            "XRX ZOSTER VACCINE LIVE 19400 UNT/0.65ML SC SUSR      1\n",
            "Name: Charge Description, Length: 54174, dtype: int64\n"
          ]
        }
      ],
      "source": [
        "freq_BillingChargeCode = stjoe['Billing_Charge Code'].value_counts()\n",
        "print('\\nThis is the frequency count for Billing/Charge Code\\n', freq_BillingChargeCode)\n",
        "\n",
        "freq_ChargeDescription = stjoe['Charge Description'].value_counts()\n",
        "print('\\nThis is the frequency count for charge description\\n',freq_ChargeDescription)"
      ]
    },
    {
      "cell_type": "code",
      "execution_count": 22,
      "metadata": {
        "id": "VmKBrhS0bFyZ",
        "outputId": "8e6846ca-f962-4d23-c9a3-db414ab92b9e"
      },
      "outputs": [
        {
          "name": "stdout",
          "output_type": "stream",
          "text": [
            "\n",
            "This is the frequency count for revenue code\n",
            " 278    33608\n",
            "250     8313\n",
            "279     7710\n",
            "272     4363\n",
            "636     4065\n",
            "       ...  \n",
            "730        1\n",
            "329        1\n",
            "161        1\n",
            "413        1\n",
            "943        1\n",
            "Name: Rev Code, Length: 131, dtype: int64\n"
          ]
        }
      ],
      "source": [
        "freq_RevCode = stjoe['Rev Code'].value_counts()\n",
        "print('\\nThis is the frequency count for revenue code\\n', freq_RevCode)"
      ]
    },
    {
      "cell_type": "markdown",
      "metadata": {
        "id": "oiCXhFIMbFyZ"
      },
      "source": [
        "## **2. SQLite Database Operations**:\n",
        "\n"
      ]
    },
    {
      "cell_type": "markdown",
      "metadata": {
        "id": "kK8USVpubFyZ"
      },
      "source": [
        "### 2.1 Create a local SQLite database called `health.db`\n"
      ]
    },
    {
      "cell_type": "code",
      "execution_count": 23,
      "metadata": {
        "id": "XZISPLhobFya"
      },
      "outputs": [],
      "source": [
        "import sqlite3\n",
        "connection = sqlite3.connect('health16.db')\n"
      ]
    },
    {
      "cell_type": "markdown",
      "metadata": {
        "id": "oEGhmK7rbFya"
      },
      "source": [
        "### 2.2 *Manual table creation*: Manually create a table (schema) using `CREATE TABLE` SQL query.\n",
        "#### The table should contain at least 5 columns. Please have at least two columns be numerical columns, and two columns should be categorical (string) columns. Then write at least one `INSERT INTO` SQL query to populate 1 or 2 rows worth of fake data.\n"
      ]
    },
    {
      "cell_type": "code",
      "execution_count": 25,
      "metadata": {
        "id": "dC-ojnuzbFya",
        "outputId": "63ee4dc7-668f-4da9-832e-cfe7d0acf65b"
      },
      "outputs": [
        {
          "ename": "NameError",
          "evalue": "name 'c' is not defined",
          "output_type": "error",
          "traceback": [
            "\u001b[1;31m---------------------------------------------------------------------------\u001b[0m",
            "\u001b[1;31mNameError\u001b[0m                                 Traceback (most recent call last)",
            "\u001b[1;32mc:\\Users\\Xavier\\OneDrive\\Documents\\Untitled_1.ipynb Cell 39\u001b[0m line \u001b[0;36m1\n\u001b[1;32m----> <a href='vscode-notebook-cell:/c%3A/Users/Xavier/OneDrive/Documents/Untitled_1.ipynb#X53sZmlsZQ%3D%3D?line=0'>1</a>\u001b[0m c\u001b[39m.\u001b[39mclose\n\u001b[0;32m      <a href='vscode-notebook-cell:/c%3A/Users/Xavier/OneDrive/Documents/Untitled_1.ipynb#X53sZmlsZQ%3D%3D?line=1'>2</a>\u001b[0m c \u001b[39m=\u001b[39m connection\u001b[39m.\u001b[39mcursor()\n\u001b[0;32m      <a href='vscode-notebook-cell:/c%3A/Users/Xavier/OneDrive/Documents/Untitled_1.ipynb#X53sZmlsZQ%3D%3D?line=2'>3</a>\u001b[0m c\u001b[39m.\u001b[39mexecute(\u001b[39m'''\u001b[39m\n\u001b[0;32m      <a href='vscode-notebook-cell:/c%3A/Users/Xavier/OneDrive/Documents/Untitled_1.ipynb#X53sZmlsZQ%3D%3D?line=3'>4</a>\u001b[0m \u001b[39mCREATE TABLE stjosephs (firstName TEXT, lastName TEXT, dob INT, income INT, zipCpde INT)\u001b[39m\n\u001b[0;32m      <a href='vscode-notebook-cell:/c%3A/Users/Xavier/OneDrive/Documents/Untitled_1.ipynb#X53sZmlsZQ%3D%3D?line=4'>5</a>\u001b[0m \u001b[39m'''\u001b[39m)\n",
            "\u001b[1;31mNameError\u001b[0m: name 'c' is not defined"
          ]
        }
      ],
      "source": [
        "c.close\n",
        "c = connection.cursor()\n",
        "c.execute('''\n",
        "CREATE TABLE stjosephs (firstName TEXT, lastName TEXT, dob INT, income INT, zipCpde INT)\n",
        "''')"
      ]
    },
    {
      "cell_type": "code",
      "execution_count": null,
      "metadata": {
        "id": "CmFj3uuubFya",
        "outputId": "ecce3295-7cfe-42ac-e4ef-9882e38e632e"
      },
      "outputs": [
        {
          "name": "stdout",
          "output_type": "stream",
          "text": [
            "[('stjosephs',)]\n"
          ]
        }
      ],
      "source": [
        "c.execute(\"\"\"\n",
        "            SELECT name\n",
        "            FROM sqlite_master\n",
        "            WHERE type='table'\n",
        "            ORDER BY name;\n",
        "          \"\"\")\n",
        "print(c.fetchall())"
      ]
    },
    {
      "cell_type": "code",
      "execution_count": null,
      "metadata": {
        "id": "tdKa8mjQbFya",
        "outputId": "420fc414-d65d-49c5-929e-ecd7bef4afc2"
      },
      "outputs": [
        {
          "name": "stdout",
          "output_type": "stream",
          "text": [
            "[('XAVIER', 'ALEXANDER', 12021997, 100000, 11413)]\n"
          ]
        }
      ],
      "source": [
        "c.execute('''\n",
        "INSERT INTO stjosephs(firstName , lastName , dob , income ,zipCpde )\n",
        "VALUES('XAVIER',    'ALEXANDER',    12021997,    100000,    11413)\n",
        "    ''')\n",
        "\n",
        "c.execute('SELECT * FROM stjosephs')\n",
        "print(c.fetchall())\n"
      ]
    },
    {
      "cell_type": "code",
      "execution_count": null,
      "metadata": {
        "id": "wZYl9FAVbFyb"
      },
      "outputs": [],
      "source": [
        "connection.commit()\n",
        "connection.close()"
      ]
    },
    {
      "cell_type": "markdown",
      "metadata": {
        "id": "VFONdxFNbFyb"
      },
      "source": [
        "### 2.3. *Automatic table creation*: Implement the `to_sql` function from Pandas to take the example data from Part 1 of this assignment into the SQLite database.\n"
      ]
    },
    {
      "cell_type": "code",
      "execution_count": null,
      "metadata": {
        "id": "H96qGJrHbFyb",
        "outputId": "06306e82-9ba8-4957-d32d-428b9db744db"
      },
      "outputs": [
        {
          "name": "stdout",
          "output_type": "stream",
          "text": [
            "(0, 3018437801, 'HC 1,5 ANHYDROGLUCITOL,INTERM GLY CNTRL Q10378', 301, '84378', 229.0, None, None, None, None, None)\n"
          ]
        }
      ],
      "source": [
        "con = sqlite3.connect('health22.db')\n",
        "\n",
        "\n",
        "stjoe.to_sql('Price', con=con, if_exists='replace')\n",
        "\n",
        "cur = con.cursor()\n",
        "res = cur.execute('''\n",
        "                  SELECT * FROM Price\n",
        "                  ''')\n",
        "print(res.fetchone())"
      ]
    },
    {
      "cell_type": "markdown",
      "metadata": {
        "id": "ybJZoS-LbFyb"
      },
      "source": [
        "## **Submission**:\n",
        "- Initiate a new GitHub repository titled `sqlite_database_operations` in your GitHub account.\n",
        "- Leverage components of code from prior assignments where necessary.\n",
        "- Configure your GitHub repository to include:\n",
        "  - Python scripts (or colab notebook) illustrating your exploratory data analysis and database transactions.\n",
        "  - Your custom SQL queries and analysis (if you embarked on this optional task).\n",
        "  - A comprehensive README.md file that provides:\n",
        "    - Details on the datasets you've selected.\n",
        "    - An account of the exploratory data analysis process.\n",
        "    - Instructions to replicate your SQLite database setup.\n",
        "    - Any other pertinent documentation or guidelines.\n",
        "- Present the URL of your repository as your assignment submission.\n",
        "- Confirm that your repository is public to ensure it's available for evaluation.\n",
        "\n",
        "**Tip**: The process of data preprocessing prior to its transfer to any database is crucial. Not only does it guarantee data accuracy, but it also fosters efficient storage and querying."
      ]
    },
    {
      "cell_type": "markdown",
      "metadata": {
        "id": "5bv4xr7tbFyb"
      },
      "source": []
    },
    {
      "cell_type": "markdown",
      "metadata": {
        "id": "Z_vv0zncbFyb"
      },
      "source": []
    }
  ],
  "metadata": {
    "colab": {
      "provenance": []
    },
    "kernelspec": {
      "display_name": "Python 3",
      "language": "python",
      "name": "python3"
    },
    "language_info": {
      "codemirror_mode": {
        "name": "ipython",
        "version": 3
      },
      "file_extension": ".py",
      "mimetype": "text/x-python",
      "name": "python",
      "nbconvert_exporter": "python",
      "pygments_lexer": "ipython3",
      "version": "3.10.5"
    },
    "orig_nbformat": 4
  },
  "nbformat": 4,
  "nbformat_minor": 0
}
